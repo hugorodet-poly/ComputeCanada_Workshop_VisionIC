{
 "cells": [
  {
   "cell_type": "markdown",
   "metadata": {},
   "source": [
    "# Multiprocess"
   ]
  },
  {
   "cell_type": "code",
   "execution_count": 1,
   "metadata": {},
   "outputs": [
    {
     "name": "stdout",
     "output_type": "stream",
     "text": [
      "Number of cpu :  16\n"
     ]
    }
   ],
   "source": [
    "import multiprocessing as m\n",
    "import time\n",
    "\n",
    "nb_cpus = m.cpu_count()\n",
    "print(\"Number of CPUs available : \", nb_cpus)"
   ]
  },
  {
   "cell_type": "markdown",
   "metadata": {},
   "source": [
    "Below we try a simple snippet of code to prove that multiprocessing is working properly."
   ]
  },
  {
   "cell_type": "code",
   "execution_count": 2,
   "metadata": {},
   "outputs": [
    {
     "name": "stdout",
     "output_type": "stream",
     "text": [
      "Elapsed on average with only one process :  1.582420253753662 s\n",
      "Elapsed on average with two processes :  0.9424316883087158 s\n"
     ]
    }
   ],
   "source": [
    "N = 10 # Number of runs\n",
    "\n",
    "def fibo(n):\n",
    "    return fibo(n-1) + fibo(n-2) if n > 1 else n\n",
    "\n",
    "start = time.time()\n",
    "for i in range(N):\n",
    "    with m.Pool(1) as p:\n",
    "        p.map(fibo, [30]*10)\n",
    "end = time.time()\n",
    "\n",
    "print(\"Elapsed on average with only one process : \", (end - start)/N, \"s\")\n",
    "\n",
    "start = time.time()\n",
    "for i in range(N):\n",
    "    with m.Pool(2) as p:\n",
    "        p.map(fibo, [30]*10)\n",
    "end = time.time()\n",
    "\n",
    "print(\"Elapsed on average with two processes : \", (end - start)/N, \"s\")\n"
   ]
  },
  {
   "cell_type": "markdown",
   "metadata": {},
   "source": [
    "# GPU"
   ]
  },
  {
   "cell_type": "code",
   "execution_count": 4,
   "metadata": {},
   "outputs": [
    {
     "name": "stdout",
     "output_type": "stream",
     "text": [
      "Thu Nov 16 12:02:42 2023       \n",
      "+-----------------------------------------------------------------------------+\n",
      "| NVIDIA-SMI 510.47.03    Driver Version: 510.47.03    CUDA Version: 11.6     |\n",
      "|-------------------------------+----------------------+----------------------+\n",
      "| GPU  Name        Persistence-M| Bus-Id        Disp.A | Volatile Uncorr. ECC |\n",
      "| Fan  Temp  Perf  Pwr:Usage/Cap|         Memory-Usage | GPU-Util  Compute M. |\n",
      "|                               |                      |               MIG M. |\n",
      "|===============================+======================+======================|\n",
      "|   0  NVIDIA GeForce ...  Off  | 00000000:01:00.0 Off |                  N/A |\n",
      "|  0%   38C    P8    18W / 340W |      5MiB / 10240MiB |      0%      Default |\n",
      "|                               |                      |                  N/A |\n",
      "+-------------------------------+----------------------+----------------------+\n",
      "                                                                               \n",
      "+-----------------------------------------------------------------------------+\n",
      "| Processes:                                                                  |\n",
      "|  GPU   GI   CI        PID   Type   Process name                  GPU Memory |\n",
      "|        ID   ID                                                   Usage      |\n",
      "|=============================================================================|\n",
      "|    0   N/A  N/A      1532      G   /usr/libexec/Xorg                   4MiB |\n",
      "+-----------------------------------------------------------------------------+\n"
     ]
    }
   ],
   "source": [
    "# Print the GPU specs\n",
    "!nvidia-smi"
   ]
  },
  {
   "cell_type": "code",
   "execution_count": null,
   "metadata": {},
   "outputs": [],
   "source": []
  }
 ],
 "metadata": {
  "kernelspec": {
   "display_name": "py310.venv",
   "language": "python",
   "name": "python3"
  },
  "language_info": {
   "codemirror_mode": {
    "name": "ipython",
    "version": 3
   },
   "file_extension": ".py",
   "mimetype": "text/x-python",
   "name": "python",
   "nbconvert_exporter": "python",
   "pygments_lexer": "ipython3",
   "version": "3.9.6"
  }
 },
 "nbformat": 4,
 "nbformat_minor": 2
}
