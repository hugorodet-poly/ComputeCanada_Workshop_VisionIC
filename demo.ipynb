{
 "cells": [
  {
   "cell_type": "markdown",
   "metadata": {},
   "source": [
    "# Multiprocess"
   ]
  },
  {
   "cell_type": "code",
   "execution_count": 54,
   "metadata": {},
   "outputs": [
    {
     "name": "stdout",
     "output_type": "stream",
     "text": [
      "Number of cpu :  16\n"
     ]
    }
   ],
   "source": [
    "import multiprocessing as m\n",
    "import time\n",
    "\n",
    "nb_cpus = m.cpu_count()\n",
    "print(\"Number of cpu : \", nb_cpus)"
   ]
  },
  {
   "cell_type": "markdown",
   "metadata": {},
   "source": [
    "Below we try a simple snippet of code to prove that multiprocessing is working properly."
   ]
  },
  {
   "cell_type": "code",
   "execution_count": 57,
   "metadata": {},
   "outputs": [],
   "source": [
    "N = 10 # Number of runs\n",
    "\n",
    "def fibo(n):\n",
    "    return fibo(n-1) + fibo(n-2) if n > 1 else n\n",
    "\n",
    "start = time.time()\n",
    "for i in range(N):\n",
    "    with m.Pool(1) as p:\n",
    "        p.map(fibo, [30]*10)\n",
    "end = time.time()\n",
    "\n",
    "print(\"Elapsed on average with only one process : \", (end - start)/N, \"s\")\n",
    "\n",
    "start = time.time()\n",
    "for i in range(N):\n",
    "    with m.Pool(2) as p:\n",
    "        p.map(fibo, [30]*10)\n",
    "end = time.time()\n",
    "\n",
    "print(\"Elapsed on average with two processes : \", (end - start)/N, \"s\")\n"
   ]
  },
  {
   "cell_type": "markdown",
   "metadata": {},
   "source": [
    "# GPU"
   ]
  },
  {
   "cell_type": "code",
   "execution_count": null,
   "metadata": {},
   "outputs": [],
   "source": []
  }
 ],
 "metadata": {
  "kernelspec": {
   "display_name": "py310.venv",
   "language": "python",
   "name": "python3"
  },
  "language_info": {
   "codemirror_mode": {
    "name": "ipython",
    "version": 3
   },
   "file_extension": ".py",
   "mimetype": "text/x-python",
   "name": "python",
   "nbconvert_exporter": "python",
   "pygments_lexer": "ipython3",
   "version": "3.9.6"
  }
 },
 "nbformat": 4,
 "nbformat_minor": 2
}
